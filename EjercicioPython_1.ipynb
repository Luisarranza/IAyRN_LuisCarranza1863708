{
  "cells": [
    {
      "cell_type": "code",
      "source": [
        "#Actividad.1 Suma de dos numeros\n",
        "#Luis Javier Carranza Alejo 1863708 HORA:N1\n",
        "print (\"Hola este programa realiza la suma de dos numeros enteros\\n\")\n",
        "x = int(input(\"Ingresa el primer numero: \"))\n",
        "x += int(input(\"Ingresa el segundo numero a sumar: \"))\n",
        "print (\"\\nLa suma de los numeros es: \",x)"
      ],
      "metadata": {
        "colab": {
          "base_uri": "https://localhost:8080/"
        },
        "id": "x-Vf9dSqz9vg",
        "outputId": "019c9d65-01c7-4b0d-dcdf-6b54c4984e25"
      },
      "execution_count": 1,
      "outputs": [
        {
          "output_type": "stream",
          "name": "stdout",
          "text": [
            "Hola este programa realiza la suma de dos numeros enteros\n",
            "\n",
            "Ingresa el primer numero: 5\n",
            "Ingresa el segundo numero a sumar: 7\n",
            "\n",
            "La suma de los numeros es:  12\n"
          ]
        }
      ]
    },
    {
      "cell_type": "code",
      "source": [
        "#Actividad.1 Calculo del numero factorial\n",
        "#Luis Javier Carranza Alejo 1863708 HORA:N1\n",
        "print(\"Hola este programa calcula el factorial del numero que ingreses\\n\")\n",
        "n=int(input(\"Ingresa el numero que deseas obtener la factorial\\n\"))\n",
        "fact=1\n",
        "for i in range(1,n+1):\n",
        "    fact*=i\n",
        "print (\"El factorial de \",n, \"es: \",fact)"
      ],
      "metadata": {
        "colab": {
          "base_uri": "https://localhost:8080/"
        },
        "id": "6W6xnr4u0Lw_",
        "outputId": "645a2103-ed50-4a2a-d3cc-1319559426df"
      },
      "execution_count": 2,
      "outputs": [
        {
          "output_type": "stream",
          "name": "stdout",
          "text": [
            "Hola este programa calcula el factorial del numero que ingreses\n",
            "\n",
            "Ingresa el numero que deseas obtener la factorial\n",
            "6\n",
            "El factorial de  6 es:  720\n"
          ]
        }
      ]
    },
    {
      "cell_type": "code",
      "source": [
        "#Actividad.1 Lista de numeros\n",
        "#Luis Javier Carranza Alejo 1863708 HORA:N1\n",
        "print (\"Hola este programa captura la lista de numeros\\n\")\n",
        "n=int(input(\"Ingresa cuantos numeros deseas agregar a la lista\"))\n",
        "list = []\n",
        "for i in range (n):\n",
        "  num=int(input(\"Ingrese el numero {}: \".format(i+1)))\n",
        "  list.append(num)\n",
        "print(list)\n",
        "x=int(input(\"Ingresa el numero que deseas encontrar en la lista\"))\n",
        "for j in range (len(list)):\n",
        "  if x== list[j]:\n",
        "    print (\"El numero {} se  encontro en la posicon {}\".format(x,j))\n",
        "  else:\n",
        "      print(\"El numero {} no se ha encontrado en la posicon {}\".format(x,j))"
      ],
      "metadata": {
        "colab": {
          "base_uri": "https://localhost:8080/"
        },
        "id": "6vx5eyJK0OOO",
        "outputId": "451b36f4-4888-4362-cdc4-e32d086aa8f3"
      },
      "execution_count": 3,
      "outputs": [
        {
          "output_type": "stream",
          "name": "stdout",
          "text": [
            "Hola este programa captura la lista de numeros\n",
            "\n",
            "Ingresa cuantos numeros deseas agregar a la lista4\n",
            "Ingrese el numero 1: 55\n",
            "Ingrese el numero 2: 65\n",
            "Ingrese el numero 3: 33\n",
            "Ingrese el numero 4: 44\n",
            "[55, 65, 33, 44]\n",
            "Ingresa el numero que deseas encontrar en la lista33\n",
            "El numero 33 no se ha encontrado en la posicon 0\n",
            "El numero 33 no se ha encontrado en la posicon 1\n",
            "El numero 33 se  encontro en la posicon 2\n",
            "El numero 33 no se ha encontrado en la posicon 3\n"
          ]
        }
      ]
    },
    {
      "cell_type": "code",
      "source": [
        "#Actividad.1 Palindromo\n",
        "#Luis Javier Carranza Alejo 1863708 HORA:N1\n",
        "print (\"Este programa te indica si la palabra que registres es palindromo o no\\n\")\n",
        "palabra = input(\"Ingresa tu palabra\")\n",
        "palabra_lower = palabra.casefold()\n",
        "palabra_split = palabra_lower.split(' ')\n",
        "palabra_join = ''.join(palabra_split)\n",
        "r = palabra_join[::-1]\n",
        "if palabra_join==r:\n",
        "  print (\"\\nLa palabra {} es palindromo\".format(palabra))\n",
        "else :\n",
        "  print (\"\\nLa palabra {} no es palindromo\".format(palabra))"
      ],
      "metadata": {
        "colab": {
          "base_uri": "https://localhost:8080/"
        },
        "id": "d7Om4qE60SRm",
        "outputId": "6c840c68-e986-4120-e12c-44a7bb97c040"
      },
      "execution_count": 4,
      "outputs": [
        {
          "output_type": "stream",
          "name": "stdout",
          "text": [
            "Este programa te indica si la palabra que registres es palindromo o no\n",
            "\n",
            "Ingresa tu palabraOjo\n",
            "\n",
            "La palabra Ojo es palindromo\n"
          ]
        }
      ]
    }
  ],
  "metadata": {
    "colab": {
      "name": "Te damos la bienvenida a Colaboratory",
      "provenance": []
    },
    "kernelspec": {
      "display_name": "Python 3",
      "name": "python3"
    }
  },
  "nbformat": 4,
  "nbformat_minor": 0
}